{
 "cells": [
  {
   "cell_type": "code",
   "execution_count": 1,
   "metadata": {
    "collapsed": true
   },
   "outputs": [],
   "source": [
    "import pandas as pd\n",
    "import numpy as np\n",
    "from tqdm import tqdm"
   ]
  },
  {
   "cell_type": "code",
   "execution_count": 2,
   "metadata": {},
   "outputs": [
    {
     "name": "stderr",
     "output_type": "stream",
     "text": [
      "D:\\anaconda3\\lib\\site-packages\\IPython\\core\\interactiveshell.py:2698: DtypeWarning: Columns (2) have mixed types. Specify dtype option on import or set low_memory=False.\n",
      "  interactivity=interactivity, compiler=compiler, result=result)\n"
     ]
    }
   ],
   "source": [
    "sms_train = pd.read_csv('../sms_train.txt',delimiter='\\t')\n",
    "voice_train = pd.read_csv('../voice_train.txt',delimiter='\\t')\n",
    "sms_test = pd.read_csv('../sms_test_b.txt',delimiter='\\t')\n",
    "voice_test = pd.read_csv('../voice_test_b.txt',delimiter='\\t')\n",
    "sms_all = pd.concat([sms_train,sms_test])\n",
    "voice_all = pd.concat([voice_train,voice_test])"
   ]
  },
  {
   "cell_type": "code",
   "execution_count": 3,
   "metadata": {},
   "outputs": [],
   "source": [
    "f_train = open('../wa_train.txt',encoding='utf8')\n",
    "df_train = []\n",
    "for line in f_train.readlines():\n",
    "    df_train.append(line.split('\\t'))\n",
    "df_train = pd.DataFrame(df_train)\n",
    "df_train.columns = ['uid' ,'wa_name','cnt' ,'dura' ,'down','up' ,'type','day']\n",
    "df_train.drop(0,inplace=True)"
   ]
  },
  {
   "cell_type": "code",
   "execution_count": 4,
   "metadata": {},
   "outputs": [],
   "source": [
    "f_test = open('../wa_train.txt',encoding='utf8')\n",
    "df_test = []\n",
    "for line in f_test.readlines():\n",
    "    df_test.append(line.split('\\t'))\n",
    "df_test = pd.DataFrame(df_test)\n",
    "df_test.columns = ['uid' ,'wa_name','cnt' ,'dura' ,'down','up' ,'type','day']\n",
    "df_test.drop(0,inplace=True)\n",
    "wa_all= pd.concat([df_train,df_test])\n",
    "wa_all['day'] = wa_all['day'].map(lambda x:str(x).strip('\\n'))\n",
    "wa_all.drop(wa_all[wa_all.day=='NULL'].index,axis=0,inplace=True)\n",
    "wa_all = wa_all.drop_duplicates()\n",
    "wa_all['day'] = wa_all['day'].map(lambda x:int(x))"
   ]
  },
  {
   "cell_type": "code",
   "execution_count": 24,
   "metadata": {},
   "outputs": [],
   "source": [
    "sms_all.sort_values(['uid','start_time'],inplace=True)\n",
    "voice_all.sort_values(['uid','start_time'],inplace=True)\n",
    "wa_all.sort_values(['uid','day'],inplace=True)"
   ]
  },
  {
   "cell_type": "code",
   "execution_count": 26,
   "metadata": {
    "collapsed": true
   },
   "outputs": [],
   "source": [
    "import datetime\n",
    "def time_fea(x):\n",
    "    if int(x[0])>30:\n",
    "        month = 5\n",
    "        day = int(x[0])-30\n",
    "        \n",
    "    else:\n",
    "        month = 4\n",
    "        day = int(x[0])\n",
    "    return '2017-%s-%s %s:%s:%s' % (month,day,int(x[1]),int(x[2]),int(x[3]))"
   ]
  },
  {
   "cell_type": "code",
   "execution_count": 27,
   "metadata": {
    "collapsed": true
   },
   "outputs": [],
   "source": [
    "sms_all['sec'] = sms_all['start_time'].map(lambda x:str(x)[-2:])\n",
    "sms_all['min'] = sms_all['start_time'].map(lambda x:str(x)[-4:-2])\n",
    "sms_all['hour'] = sms_all['start_time'].map(lambda x:str(x)[-6:-4])\n",
    "sms_all['day'] = sms_all['start_time'].map(lambda x:str(x)[:-6])\n",
    "sms_all['day'] = sms_all['day'].map(lambda x:1 if x=='' else int(x)+1)\n",
    "sms_all['time_temp'] = list(zip(sms_all['day'].values,sms_all['hour'].values,sms_all['min'].values,sms_all['sec'].values))\n",
    "sms_all['time'] = sms_all['time_temp'].map(time_fea)\n",
    "sms_all['time'] = pd.to_datetime(sms_all['time'])\n",
    "sms_all.drop(['sec','min','day','time_temp'],axis=1,inplace=True)\n",
    "sms_all['date'] = sms_all['time'].dt.date"
   ]
  },
  {
   "cell_type": "code",
   "execution_count": 28,
   "metadata": {
    "collapsed": true
   },
   "outputs": [],
   "source": [
    "voice_all['s_sec'] = voice_all['start_time'].map(lambda x:str(x)[-2:])\n",
    "voice_all['s_min'] = voice_all['start_time'].map(lambda x:str(x)[-4:-2])\n",
    "voice_all['s_hour'] = voice_all['start_time'].map(lambda x:str(x)[-6:-4])\n",
    "voice_all['s_day'] = voice_all['start_time'].map(lambda x:str(x)[:-6])\n",
    "voice_all['s_day'] = voice_all['s_day'].map(lambda x:1 if x =='' else int(x)+1)\n",
    "voice_all['time_temp'] = list(zip(voice_all['s_day'].values,voice_all['s_hour'].values,voice_all['s_min'].values,voice_all['s_sec'].values))\n",
    "voice_all['s_time'] = voice_all['time_temp'].map(time_fea)\n",
    "voice_all['s_time'] = pd.to_datetime(voice_all['s_time'])\n",
    "voice_all.drop(['s_sec','s_min','s_day','time_temp'],axis=1,inplace=True)\n",
    "voice_all['s_date'] = voice_all['s_time'].dt.date"
   ]
  },
  {
   "cell_type": "code",
   "execution_count": 29,
   "metadata": {
    "collapsed": true
   },
   "outputs": [],
   "source": [
    "voice_all['e_sec'] = voice_all['end_time'].map(lambda x:str(x)[-2:])\n",
    "voice_all['e_min'] = voice_all['end_time'].map(lambda x:str(x)[-4:-2])\n",
    "voice_all['e_hour'] = voice_all['end_time'].map(lambda x:str(x)[-6:-4])\n",
    "voice_all['e_day'] = voice_all['end_time'].map(lambda x:str(x)[:-6])\n",
    "voice_all['e_day'] = voice_all['e_day'].map(lambda x:1 if x =='' else int(x)+1)\n",
    "voice_all['time_temp'] = list(zip(voice_all['e_day'].values,voice_all['e_hour'].values,voice_all['e_min'].values,voice_all['e_sec'].values))\n",
    "voice_all['e_time'] = voice_all['time_temp'].map(time_fea)\n",
    "voice_all['e_time'] = pd.to_datetime(voice_all['e_time'])\n",
    "voice_all.drop(['e_sec','e_min','e_day','time_temp'],axis=1,inplace=True)\n",
    "voice_all['e_date'] = voice_all['e_time'].dt.date\n",
    "voice_all['dura'] = voice_all['e_time'] - voice_all['s_time']\n",
    "voice_all['dura'] = voice_all['dura'].map(lambda x:x.total_seconds())"
   ]
  },
  {
   "cell_type": "code",
   "execution_count": 30,
   "metadata": {
    "collapsed": true
   },
   "outputs": [],
   "source": [
    "sms_opp_head_dict = {}\n",
    "for i,va in enumerate(sms_all.opp_head.unique()):\n",
    "    sms_opp_head_dict[va]=i\n",
    "sms_opp_len_dict = {}\n",
    "for i,va in enumerate(sms_all.opp_len.unique()):\n",
    "    sms_opp_len_dict[va]=i\n",
    "sms_hour_dict = {}\n",
    "for i,va in enumerate(sms_all.hour.unique()):\n",
    "    sms_hour_dict[va]=i"
   ]
  },
  {
   "cell_type": "code",
   "execution_count": 31,
   "metadata": {},
   "outputs": [
    {
     "name": "stderr",
     "output_type": "stream",
     "text": [
      "  0%|                                                                                         | 0/7924 [00:00<?, ?it/s]D:\\anaconda3\\lib\\site-packages\\ipykernel_launcher.py:29: SettingWithCopyWarning: \n",
      "A value is trying to be set on a copy of a slice from a DataFrame.\n",
      "Try using .loc[row_indexer,col_indexer] = value instead\n",
      "\n",
      "See the caveats in the documentation: http://pandas.pydata.org/pandas-docs/stable/indexing.html#indexing-view-versus-copy\n",
      "100%|██████████████████████████████████████████████████████████████████████████████| 7924/7924 [10:55<00:00, 12.09it/s]\n"
     ]
    }
   ],
   "source": [
    "sms_fea = []\n",
    "\n",
    "for uid in tqdm(sms_all['uid'].unique()):\n",
    "    df = sms_all[sms_all.uid == uid]\n",
    "    sms_cnt = len(df)\n",
    "    max_sms = df.groupby('opp_num')['uid'].count().max() #对某一号码长度的短信数的最大值\n",
    "    mean_sms = df.groupby('opp_num')['uid'].count().mean()#对某一个号码长度的短信数的平均值\n",
    "    max_day_sms = df.groupby('date')['uid'].count().max() #对某一天的短信数的最大值\n",
    "    mean_day_sms = df.groupby('date')['uid'].count().mean()#对某一天的短信数的平均值\n",
    "    \n",
    "    np_head = np.zeros(len(sms_opp_head_dict))\n",
    "    sms_head = df.groupby('opp_head')['uid'].count()/sms_cnt\n",
    "    sms_head.index = [sms_opp_head_dict[v] for v in sms_head.index]\n",
    "    sms_head = sms_head.sort_index()\n",
    "    np_head[sms_head.index] = sms_head #对某一特定开头的短信号码的短信数\n",
    "    \n",
    "    np_len = np.zeros(len(sms_opp_len_dict))\n",
    "    sms_len = df.groupby('opp_len')['uid'].count()/sms_cnt\n",
    "    sms_len.index = [sms_opp_len_dict[v] for v in sms_len.index]\n",
    "    sms_len = sms_len.sort_index()\n",
    "    np_len[sms_len.index] = sms_len#对某一特定长度的短信号码的短信数\n",
    "    \n",
    "    np_hour = np.zeros(len(sms_hour_dict))\n",
    "    sms_hour = df.groupby('hour')['uid'].count()/sms_cnt\n",
    "    sms_hour.index = [sms_hour_dict[v] for v in sms_hour.index]\n",
    "    sms_hour = sms_hour.sort_index()\n",
    "    np_hour[sms_hour.index] = sms_hour#在某一小时内的短息数\n",
    "    \n",
    "    df['dura'] = df['time'].diff().dt.total_seconds()\n",
    "    avg_dura = df['dura'].dropna().mean() #每次发短信的间隔\n",
    "    zero_dura = len(df[df.dura==0]) #发短信间隔为0的次数\n",
    "\n",
    "    np_hour_dura = np.zeros(len(sms_hour_dict))\n",
    "    sms_hour_dura = df.groupby('hour')['dura'].mean() \n",
    "    sms_hour_dura.index = [sms_hour_dict[v] for v in sms_hour_dura.index]\n",
    "    sms_hour_dura = sms_hour_dura.sort_index()\n",
    "    np_hour_dura[sms_hour_dura.index] = sms_hour_dura#每个时段的发短信的间隔\n",
    "\n",
    "    inout = []\n",
    "    for i in [0,1]:\n",
    "        inout.append(len(df[df.in_out==i])/sms_cnt)\n",
    "    \n",
    "    sms_fea.append(np.hstack(([uid,sms_cnt,max_sms,mean_sms,max_day_sms,mean_day_sms,avg_dura,zero_dura],\n",
    "                              np_head,np_len,np_hour,np_hour_dura,inout)))"
   ]
  },
  {
   "cell_type": "code",
   "execution_count": 32,
   "metadata": {
    "collapsed": true
   },
   "outputs": [],
   "source": [
    "sms_df = pd.DataFrame(sms_fea)\n",
    "sms_df.to_csv('sms_df_all.csv',index=False)"
   ]
  },
  {
   "cell_type": "code",
   "execution_count": 33,
   "metadata": {
    "collapsed": true
   },
   "outputs": [],
   "source": [
    "voice_opp_head_dict = {}\n",
    "for i,v in enumerate(voice_all.opp_head.unique()):\n",
    "    voice_opp_head_dict[v] = i\n",
    "voice_opp_len_dict = {}\n",
    "for i,v in enumerate(voice_all.opp_len.unique()):\n",
    "    voice_opp_len_dict[v] = i\n",
    "voice_opp_type_dict = {}\n",
    "for i,v in enumerate(voice_all.call_type.unique()):\n",
    "    voice_opp_type_dict[v] = i\n",
    "voice_hour_dict = {}\n",
    "for i,v in enumerate(voice_all.s_hour.unique()):\n",
    "    voice_hour_dict[v] = i"
   ]
  },
  {
   "cell_type": "code",
   "execution_count": 34,
   "metadata": {
    "scrolled": true
   },
   "outputs": [
    {
     "name": "stderr",
     "output_type": "stream",
     "text": [
      "100%|██████████████████████████████████████████████████████████████████████████████| 7979/7979 [22:52<00:00,  5.81it/s]\n"
     ]
    }
   ],
   "source": [
    "voice_fea = []\n",
    "for uid in tqdm(voice_all['uid'].unique()):\n",
    "    df = voice_all[voice_all.uid==uid]\n",
    "    voice_cnt = len(df)\n",
    "    max_day = df.groupby('s_date')['uid'].count().max()#打电话最多的一天\n",
    "    mean_day = df.groupby('s_date')['uid'].count().max()#平均每天打电话的数目\n",
    "    max_num = df.groupby('opp_num')['uid'].count().max()#对某个号码打得最多的次数\n",
    "    mean_num = df.groupby('opp_num')['uid'].count().mean()#对每个号码平均的打电话次数\n",
    "    max_day_num = df.groupby(['opp_num','s_date'])['uid'].count().max()#某天对某个号码的最大打电话次数\n",
    "    mean_day_num = df.groupby(['opp_num','s_date'])['uid'].count().mean()#某天对某个号码的平均电话次数\n",
    "    \n",
    "    np_head = np.zeros(len(voice_opp_head_dict))\n",
    "    voice_head = df.groupby('opp_head')['uid'].count()/voice_cnt\n",
    "    voice_head.index = [voice_opp_head_dict[v] for v in voice_head.index]\n",
    "    voice_head = voice_head.sort_index()\n",
    "    np_head[voice_head.index] = voice_head#对每种开头的号码的打电话次数\n",
    "    \n",
    "    np_len = np.zeros(len(voice_opp_len_dict))\n",
    "    voice_len = df.groupby('opp_len')['uid'].count()/voice_cnt\n",
    "    voice_len.index = [voice_opp_len_dict[v] for v in voice_len.index]\n",
    "    voice_len = voice_len.sort_index()\n",
    "    np_len[voice_len.index] = voice_len#对每种开头的号码的打电话次数\n",
    "    \n",
    "    np_type = np.zeros(len(voice_opp_type_dict))\n",
    "    voice_type = df.groupby('call_type')['uid'].count()/voice_cnt\n",
    "    voice_type.index = [voice_opp_type_dict[v] for v in voice_type.index]\n",
    "    voice_type = voice_type.sort_index()\n",
    "    np_type[voice_type.index] = voice_type#每种类型的打电话次数\n",
    "    \n",
    "    np_hour = np.zeros(len(voice_hour_dict))\n",
    "    voice_hour = df.groupby('s_hour')['uid'].count()/voice_cnt\n",
    "    voice_hour.index = [voice_hour_dict[v] for v in voice_hour.index]\n",
    "    voice_hour = voice_hour.sort_index()\n",
    "    np_hour[voice_hour.index] = voice_hour#每个小时的打电话次数\n",
    "    \n",
    "    np_type_dura = np.zeros(len(voice_opp_type_dict))\n",
    "    voice_type_dura = df.groupby('call_type')['dura'].mean()\n",
    "    voice_type_dura.index = [voice_opp_type_dict[v] for v in voice_type_dura.index]\n",
    "    voice_type_dura = voice_type_dura.sort_index()\n",
    "    np_type_dura[voice_type_dura.index] = voice_type_dura\n",
    "    \n",
    "    np_hour_dura = np.zeros(len(voice_hour_dict))\n",
    "    voice_hour_dura = df.groupby('s_hour')['dura'].mean()\n",
    "    voice_hour_dura.index = [voice_hour_dict[v] for v in voice_hour_dura.index]\n",
    "    voice_hour_dura = voice_hour_dura.sort_index()\n",
    "    np_hour_dura[voice_hour_dura.index] = voice_hour_dura\n",
    "    \n",
    "    in_cnt = len(df[df.in_out==1])\n",
    "    out_cnt = len(df[df.in_out==0])\n",
    "    \n",
    "    in_dura = df[df.in_out==1]['dura'].mean()\n",
    "    out_dura = df[df.in_out==0]['dura'].mean()\n",
    "    \n",
    "    \n",
    "    voice_fea.append(np.hstack(([uid,max_day,mean_day,max_num,mean_num,max_day_num,mean_day_num],np_head,np_len,np_type,np_hour,\n",
    "                              np_type_dura,np_hour_dura,[in_cnt,out_cnt,in_dura,out_dura] )))"
   ]
  },
  {
   "cell_type": "code",
   "execution_count": 35,
   "metadata": {
    "collapsed": true
   },
   "outputs": [],
   "source": [
    "voice_df = pd.DataFrame(voice_fea)\n",
    "voice_df.to_csv('voice_df_all.csv',index=False)"
   ]
  },
  {
   "cell_type": "code",
   "execution_count": 36,
   "metadata": {},
   "outputs": [
    {
     "data": {
      "text/html": [
       "<div>\n",
       "<style>\n",
       "    .dataframe thead tr:only-child th {\n",
       "        text-align: right;\n",
       "    }\n",
       "\n",
       "    .dataframe thead th {\n",
       "        text-align: left;\n",
       "    }\n",
       "\n",
       "    .dataframe tbody tr th {\n",
       "        vertical-align: top;\n",
       "    }\n",
       "</style>\n",
       "<table border=\"1\" class=\"dataframe\">\n",
       "  <thead>\n",
       "    <tr style=\"text-align: right;\">\n",
       "      <th></th>\n",
       "      <th>uid</th>\n",
       "      <th>wa_name</th>\n",
       "      <th>cnt</th>\n",
       "      <th>dura</th>\n",
       "      <th>down</th>\n",
       "      <th>up</th>\n",
       "      <th>type</th>\n",
       "      <th>day</th>\n",
       "    </tr>\n",
       "  </thead>\n",
       "  <tbody>\n",
       "    <tr>\n",
       "      <th>8</th>\n",
       "      <td>u0001</td>\n",
       "      <td>360借条</td>\n",
       "      <td>10</td>\n",
       "      <td>11419</td>\n",
       "      <td>10535</td>\n",
       "      <td>3434</td>\n",
       "      <td>1</td>\n",
       "      <td>1</td>\n",
       "    </tr>\n",
       "    <tr>\n",
       "      <th>16</th>\n",
       "      <td>u0001</td>\n",
       "      <td>360安全中心网</td>\n",
       "      <td>109</td>\n",
       "      <td>105763</td>\n",
       "      <td>71003</td>\n",
       "      <td>127963</td>\n",
       "      <td>0</td>\n",
       "      <td>1</td>\n",
       "    </tr>\n",
       "    <tr>\n",
       "      <th>32</th>\n",
       "      <td>u0001</td>\n",
       "      <td>AccuWeather</td>\n",
       "      <td>6</td>\n",
       "      <td>16947</td>\n",
       "      <td>4509</td>\n",
       "      <td>15940</td>\n",
       "      <td>0</td>\n",
       "      <td>1</td>\n",
       "    </tr>\n",
       "    <tr>\n",
       "      <th>40</th>\n",
       "      <td>u0001</td>\n",
       "      <td>GPS定位服务器</td>\n",
       "      <td>2</td>\n",
       "      <td>4803</td>\n",
       "      <td>324</td>\n",
       "      <td>918</td>\n",
       "      <td>0</td>\n",
       "      <td>1</td>\n",
       "    </tr>\n",
       "    <tr>\n",
       "      <th>45</th>\n",
       "      <td>u0001</td>\n",
       "      <td>MIUI米柚</td>\n",
       "      <td>3</td>\n",
       "      <td>669</td>\n",
       "      <td>120</td>\n",
       "      <td>40</td>\n",
       "      <td>0</td>\n",
       "      <td>1</td>\n",
       "    </tr>\n",
       "  </tbody>\n",
       "</table>\n",
       "</div>"
      ],
      "text/plain": [
       "      uid      wa_name  cnt    dura   down      up type  day\n",
       "8   u0001        360借条   10   11419  10535    3434    1    1\n",
       "16  u0001     360安全中心网  109  105763  71003  127963    0    1\n",
       "32  u0001  AccuWeather    6   16947   4509   15940    0    1\n",
       "40  u0001     GPS定位服务器    2    4803    324     918    0    1\n",
       "45  u0001       MIUI米柚    3     669    120      40    0    1"
      ]
     },
     "execution_count": 36,
     "metadata": {},
     "output_type": "execute_result"
    }
   ],
   "source": [
    "for uid in tqdm(wa_all['uid'].unique()[:10]):\n",
    "    "
   ]
  },
  {
   "cell_type": "code",
   "execution_count": null,
   "metadata": {
    "collapsed": true
   },
   "outputs": [],
   "source": []
  }
 ],
 "metadata": {
  "kernelspec": {
   "display_name": "Python 3",
   "language": "python",
   "name": "python3"
  },
  "language_info": {
   "codemirror_mode": {
    "name": "ipython",
    "version": 3
   },
   "file_extension": ".py",
   "mimetype": "text/x-python",
   "name": "python",
   "nbconvert_exporter": "python",
   "pygments_lexer": "ipython3",
   "version": "3.6.2"
  }
 },
 "nbformat": 4,
 "nbformat_minor": 2
}
