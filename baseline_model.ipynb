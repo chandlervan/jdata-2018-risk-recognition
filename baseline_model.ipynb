{
 "cells": [
  {
   "cell_type": "code",
   "execution_count": 1,
   "metadata": {
    "collapsed": true
   },
   "outputs": [],
   "source": [
    "import pandas as pd\n",
    "import numpy as np\n",
    "import lightgbm as lgb"
   ]
  },
  {
   "cell_type": "code",
   "execution_count": 2,
   "metadata": {
    "collapsed": true
   },
   "outputs": [],
   "source": [
    "sms_df = pd.read_csv('sms_df_all.csv')\n",
    "voice_df = pd.read_csv('voice_df_all.csv')\n",
    "all_data = pd.merge(sms_df,voice_df,how='outer',on='uid')\n",
    "label = pd.read_csv('../uid_train.txt',delimiter='\\t')\n",
    "label.columns = ['uid','label']\n",
    "all_data = pd.merge(all_data,label,on='uid',how='left')\n",
    "all_data = all_data.sort_values('uid')"
   ]
  },
  {
   "cell_type": "code",
   "execution_count": 3,
   "metadata": {
    "collapsed": true
   },
   "outputs": [],
   "source": [
    "train_size = all_data[~all_data.label.isnull()].shape[0]"
   ]
  },
  {
   "cell_type": "code",
   "execution_count": 4,
   "metadata": {
    "collapsed": true
   },
   "outputs": [],
   "source": [
    "fea_col = [fea for fea in all_data.columns if fea not in ['uid','label']]"
   ]
  },
  {
   "cell_type": "code",
   "execution_count": 5,
   "metadata": {
    "collapsed": true
   },
   "outputs": [],
   "source": [
    "from sklearn.model_selection import train_test_split\n",
    "X_train,X_test,y_train,y_test = train_test_split(all_data[fea_col].values[:train_size],all_data['label'].values[:train_size],test_size=0.2)"
   ]
  },
  {
   "cell_type": "code",
   "execution_count": 6,
   "metadata": {},
   "outputs": [
    {
     "name": "stdout",
     "output_type": "stream",
     "text": [
      "[150]\ttraining's binary_logloss: 0.0498705\tvalid_1's binary_logloss: 0.236459\n",
      "[300]\ttraining's binary_logloss: 0.0103616\tvalid_1's binary_logloss: 0.258572\n",
      "[150]\ttraining's binary_logloss: 0.0515886\tvalid_1's binary_logloss: 0.212702\n",
      "[300]\ttraining's binary_logloss: 0.0108445\tvalid_1's binary_logloss: 0.23535\n",
      "[150]\ttraining's binary_logloss: 0.0490382\tvalid_1's binary_logloss: 0.252424\n",
      "[300]\ttraining's binary_logloss: 0.0101768\tvalid_1's binary_logloss: 0.282687\n",
      "[150]\ttraining's binary_logloss: 0.0517521\tvalid_1's binary_logloss: 0.224594\n",
      "[300]\ttraining's binary_logloss: 0.0109286\tvalid_1's binary_logloss: 0.238454\n",
      "[150]\ttraining's binary_logloss: 0.050594\tvalid_1's binary_logloss: 0.23328\n",
      "[300]\ttraining's binary_logloss: 0.0102528\tvalid_1's binary_logloss: 0.281501\n",
      "[150]\ttraining's binary_logloss: 0.0496237\tvalid_1's binary_logloss: 0.240752\n",
      "[300]\ttraining's binary_logloss: 0.0102392\tvalid_1's binary_logloss: 0.276749\n",
      "[150]\ttraining's binary_logloss: 0.0496264\tvalid_1's binary_logloss: 0.242696\n",
      "[300]\ttraining's binary_logloss: 0.0101224\tvalid_1's binary_logloss: 0.276221\n",
      "[150]\ttraining's binary_logloss: 0.0540428\tvalid_1's binary_logloss: 0.192064\n",
      "[300]\ttraining's binary_logloss: 0.0114861\tvalid_1's binary_logloss: 0.186537\n",
      "[150]\ttraining's binary_logloss: 0.0521004\tvalid_1's binary_logloss: 0.207899\n",
      "[300]\ttraining's binary_logloss: 0.0111781\tvalid_1's binary_logloss: 0.2191\n",
      "[150]\ttraining's binary_logloss: 0.0502271\tvalid_1's binary_logloss: 0.266265\n",
      "[300]\ttraining's binary_logloss: 0.0101398\tvalid_1's binary_logloss: 0.271312\n"
     ]
    }
   ],
   "source": [
    "param = {\n",
    "    'objective':'binary',\n",
    "    'num_leaves':16,\n",
    "    'scale_pos_weight':5,\n",
    "#     'learning_rate':0.08,\n",
    "    'subsample':0.5,\n",
    "    'colsample_bytree':0.5\n",
    "    \n",
    "}\n",
    "re_re = []\n",
    "re = []\n",
    "from sklearn.model_selection import StratifiedKFold\n",
    "for tr,va in StratifiedKFold(n_splits=10,random_state=2018).split(X_train,y_train):\n",
    "    d_train = lgb.Dataset(X_train[tr],y_train[tr])\n",
    "    d_test = lgb.Dataset(X_train[va],y_train[va])\n",
    "    model = lgb.train(param,d_train,valid_sets=[d_train,d_test],num_boost_round=300,verbose_eval=150)\n",
    "    re.append(model.predict(X_test))\n",
    "    re_re.append(model.predict(all_data[fea_col].values[train_size:]))"
   ]
  },
  {
   "cell_type": "code",
   "execution_count": 7,
   "metadata": {
    "collapsed": true
   },
   "outputs": [],
   "source": [
    "re_test = np.sum(re,axis=0)/10\n",
    "re_avg = np.sum(re_re,axis=0)/10\n",
    "from sklearn.metrics import log_loss,f1_score,roc_auc_score"
   ]
  },
  {
   "cell_type": "code",
   "execution_count": 8,
   "metadata": {
    "collapsed": true
   },
   "outputs": [],
   "source": [
    "test_bin = np.zeros(len(re_test))\n",
    "for i,v in enumerate(re_test):\n",
    "    if v >0.6:\n",
    "        test_bin[i]=1"
   ]
  },
  {
   "cell_type": "code",
   "execution_count": 9,
   "metadata": {},
   "outputs": [
    {
     "name": "stdout",
     "output_type": "stream",
     "text": [
      "log_loss 0.2543781834786565\n",
      "f1_score 0.7\n",
      "auc 0.941205224604812\n",
      "auc_bin 0.8238744599636261\n"
     ]
    }
   ],
   "source": [
    "print('log_loss',log_loss(y_test,re_test))\n",
    "print('f1_score',f1_score(y_test,test_bin))\n",
    "print('auc',roc_auc_score(y_test,re_test))\n",
    "print('auc_bin',roc_auc_score(y_test,test_bin))"
   ]
  },
  {
   "cell_type": "code",
   "execution_count": 10,
   "metadata": {
    "collapsed": true
   },
   "outputs": [],
   "source": [
    "re_df = pd.DataFrame({'uid':all_data['uid'].values[train_size:],'re':re_avg})\n",
    "re_df = re_df.sort_values('re',ascending=False)\n",
    "re_df['label'] = re_df['re'].map(lambda x:1 if x>0.6 else 0)\n",
    "re_df[['uid','label']].to_csv('re.csv',index=False)"
   ]
  },
  {
   "cell_type": "code",
   "execution_count": null,
   "metadata": {
    "collapsed": true
   },
   "outputs": [],
   "source": []
  }
 ],
 "metadata": {
  "kernelspec": {
   "display_name": "Python 3",
   "language": "python",
   "name": "python3"
  },
  "language_info": {
   "codemirror_mode": {
    "name": "ipython",
    "version": 3
   },
   "file_extension": ".py",
   "mimetype": "text/x-python",
   "name": "python",
   "nbconvert_exporter": "python",
   "pygments_lexer": "ipython3",
   "version": "3.6.2"
  }
 },
 "nbformat": 4,
 "nbformat_minor": 2
}
